{
 "cells": [
  {
   "cell_type": "code",
   "execution_count": null,
   "id": "e44c80bd-f4d9-4526-8bb5-1ba175d36063",
   "metadata": {},
   "outputs": [],
   "source": []
  }
 ],
 "metadata": {
  "kernelspec": {
   "display_name": "",
   "name": ""
  },
  "language_info": {
   "name": ""
  }
 },
 "nbformat": 4,
 "nbformat_minor": 5
}
