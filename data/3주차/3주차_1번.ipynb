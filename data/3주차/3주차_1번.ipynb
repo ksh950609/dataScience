{
  "nbformat": 4,
  "nbformat_minor": 0,
  "metadata": {
    "colab": {
      "provenance": []
    },
    "kernelspec": {
      "name": "python3",
      "display_name": "Python 3"
    },
    "language_info": {
      "name": "python"
    }
  },
  "cells": [
    {
      "cell_type": "code",
      "execution_count": null,
      "metadata": {
        "id": "YHpDD5ibUQfc"
      },
      "outputs": [],
      "source": [
        "# 1번\n",
        "import pandas as pd\n",
        "import numpy as np\n",
        "import seaborn as sns\n",
        "\n",
        "# 한글폰트 사용을 위해 설치\n",
        "# 아래 모듈을 설치하고 불러오면 별도의 한글폰트 설정이 필요 없습니다.\n",
        "# colab 에서도 아래 설치 문구의 주석을 제거하고 설치하고 import 해주기만 하면 한글폰트가 잘 나옵니다.\n",
        "# !pip install koreanize-matplotlib\n",
        "\n",
        "import koreanize_matplotlib\n",
        "\n",
        "df = pd.read_csv(\"https://raw.githubusercontent.com/corazzon/boostcourse-ds-510/master/data/NHIS_OPEN_GJ_2017.CSV.zip\",\n",
        "                 encoding=\"cp949\")"
      ]
    },
    {
      "cell_type": "code",
      "source": [
        "df.info()"
      ],
      "metadata": {
        "id": "NG0xJi1KUZUG"
      },
      "execution_count": null,
      "outputs": []
    },
    {
      "cell_type": "code",
      "source": [
        "age_code = {\n",
        "    1: '0~4세', 2: '5~9세', 3: '10~14세', 4: '15~19세', 5: '20~24세',\n",
        "    6: '25~29세', 7: '30~34세', 8: '35~39세', 9: '40~44세', 10: '45~49세',\n",
        "    11: '50~54세', 12: '55~59세', 13: '60~64세', 14: '65~69세', 15: '70~74세',\n",
        "    16: '75~79세', 17: '80~84세', 18: '85세+'\n",
        "}\n",
        "\n"
      ],
      "metadata": {
        "id": "HrdZE-qLUaIc"
      },
      "execution_count": null,
      "outputs": []
    },
    {
      "cell_type": "code",
      "source": [
        "\n",
        "# '연령대' 컬럼 추가\n",
        "df['연령대'] = df['연령대코드(5세단위)'].map(age_code)"
      ],
      "metadata": {
        "id": "gXe-fRZyUcUP"
      },
      "execution_count": null,
      "outputs": []
    },
    {
      "cell_type": "code",
      "source": [
        "waist_stats = df.groupby('연령대')['허리둘레'].describe()"
      ],
      "metadata": {
        "id": "aww8zze1UeLl"
      },
      "execution_count": null,
      "outputs": []
    },
    {
      "cell_type": "code",
      "source": [
        "print(waist_stats)"
      ],
      "metadata": {
        "id": "AQ2SIEgBUesl"
      },
      "execution_count": null,
      "outputs": []
    }
  ]
}