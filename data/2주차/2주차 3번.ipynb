{
 "cells": [
  {
   "cell_type": "code",
   "execution_count": 3,
   "id": "1e592e7e-f4cc-4724-a8ad-a61d6d5c19d5",
   "metadata": {},
   "outputs": [],
   "source": [
    "import pandas as pd"
   ]
  },
  {
   "cell_type": "code",
   "execution_count": 5,
   "id": "87cac97d-9506-4aba-bce5-fcab30710a26",
   "metadata": {},
   "outputs": [],
   "source": [
    "df = pd.read_csv(\"https://raw.githubusercontent.com/corazzon/boostcourse-ds-510/master/data/medical_201909.csv.zip\", low_memory=False)"
   ]
  },
  {
   "cell_type": "code",
   "execution_count": 6,
   "id": "3a8d45d6-a29f-4725-84fb-6c8dc4b7bb5e",
   "metadata": {},
   "outputs": [
    {
     "data": {
      "text/plain": [
       "(91335, 39)"
      ]
     },
     "execution_count": 6,
     "metadata": {},
     "output_type": "execute_result"
    }
   ],
   "source": [
    "df.shape"
   ]
  },
  {
   "cell_type": "code",
   "execution_count": 9,
   "id": "dfdd01ec-f551-438c-824b-f731a6f23dee",
   "metadata": {},
   "outputs": [],
   "source": [
    "import matplotlib.pyplot as plt"
   ]
  },
  {
   "cell_type": "code",
   "execution_count": 10,
   "id": "5e285e90-ba3b-44f4-99eb-fd3ca02bc60d",
   "metadata": {},
   "outputs": [],
   "source": [
    "import seaborn as sns"
   ]
  },
  {
   "cell_type": "code",
   "execution_count": 11,
   "id": "e1e193bf-55a8-4f6d-9c93-e6f502db1c94",
   "metadata": {},
   "outputs": [
    {
     "name": "stdout",
     "output_type": "stream",
     "text": [
      "Collecting koreanize-matplotlib\n",
      "  Downloading koreanize_matplotlib-0.1.1-py3-none-any.whl.metadata (992 bytes)\n",
      "Requirement already satisfied: matplotlib in c:\\users\\ksh95\\appdata\\local\\programs\\python\\python312\\lib\\site-packages (from koreanize-matplotlib) (3.9.1.post1)\n",
      "Requirement already satisfied: contourpy>=1.0.1 in c:\\users\\ksh95\\appdata\\local\\programs\\python\\python312\\lib\\site-packages (from matplotlib->koreanize-matplotlib) (1.2.1)\n",
      "Requirement already satisfied: cycler>=0.10 in c:\\users\\ksh95\\appdata\\local\\programs\\python\\python312\\lib\\site-packages (from matplotlib->koreanize-matplotlib) (0.12.1)\n",
      "Requirement already satisfied: fonttools>=4.22.0 in c:\\users\\ksh95\\appdata\\local\\programs\\python\\python312\\lib\\site-packages (from matplotlib->koreanize-matplotlib) (4.53.1)\n",
      "Requirement already satisfied: kiwisolver>=1.3.1 in c:\\users\\ksh95\\appdata\\local\\programs\\python\\python312\\lib\\site-packages (from matplotlib->koreanize-matplotlib) (1.4.5)\n",
      "Requirement already satisfied: numpy>=1.23 in c:\\users\\ksh95\\appdata\\local\\programs\\python\\python312\\lib\\site-packages (from matplotlib->koreanize-matplotlib) (2.0.1)\n",
      "Requirement already satisfied: packaging>=20.0 in c:\\users\\ksh95\\appdata\\local\\programs\\python\\python312\\lib\\site-packages (from matplotlib->koreanize-matplotlib) (24.1)\n",
      "Requirement already satisfied: pillow>=8 in c:\\users\\ksh95\\appdata\\local\\programs\\python\\python312\\lib\\site-packages (from matplotlib->koreanize-matplotlib) (10.4.0)\n",
      "Requirement already satisfied: pyparsing>=2.3.1 in c:\\users\\ksh95\\appdata\\local\\programs\\python\\python312\\lib\\site-packages (from matplotlib->koreanize-matplotlib) (3.1.2)\n",
      "Requirement already satisfied: python-dateutil>=2.7 in c:\\users\\ksh95\\appdata\\local\\programs\\python\\python312\\lib\\site-packages (from matplotlib->koreanize-matplotlib) (2.9.0.post0)\n",
      "Requirement already satisfied: six>=1.5 in c:\\users\\ksh95\\appdata\\local\\programs\\python\\python312\\lib\\site-packages (from python-dateutil>=2.7->matplotlib->koreanize-matplotlib) (1.16.0)\n",
      "Downloading koreanize_matplotlib-0.1.1-py3-none-any.whl (7.9 MB)\n",
      "   ---------------------------------------- 0.0/7.9 MB ? eta -:--:--\n",
      "   ----- ---------------------------------- 1.0/7.9 MB 4.6 MB/s eta 0:00:02\n",
      "   ------- -------------------------------- 1.6/7.9 MB 3.8 MB/s eta 0:00:02\n",
      "   ----------- ---------------------------- 2.4/7.9 MB 3.7 MB/s eta 0:00:02\n",
      "   --------------- ------------------------ 3.1/7.9 MB 3.8 MB/s eta 0:00:02\n",
      "   --------------------- ------------------ 4.2/7.9 MB 4.0 MB/s eta 0:00:01\n",
      "   ----------------------- ---------------- 4.7/7.9 MB 4.0 MB/s eta 0:00:01\n",
      "   --------------------------- ------------ 5.5/7.9 MB 3.7 MB/s eta 0:00:01\n",
      "   ------------------------------ --------- 6.0/7.9 MB 3.7 MB/s eta 0:00:01\n",
      "   -------------------------------- ------- 6.6/7.9 MB 3.6 MB/s eta 0:00:01\n",
      "   ------------------------------------ --- 7.3/7.9 MB 3.5 MB/s eta 0:00:01\n",
      "   ---------------------------------------- 7.9/7.9 MB 3.5 MB/s eta 0:00:00\n",
      "Installing collected packages: koreanize-matplotlib\n",
      "Successfully installed koreanize-matplotlib-0.1.1\n"
     ]
    }
   ],
   "source": [
    "!pip install koreanize-matplotlib"
   ]
  },
  {
   "cell_type": "code",
   "execution_count": 12,
   "id": "c7f35e4b-136f-4ae8-8c80-6db4001e5dc8",
   "metadata": {},
   "outputs": [],
   "source": [
    "import koreanize_matplotlib"
   ]
  },
  {
   "cell_type": "code",
   "execution_count": 13,
   "id": "97114946-19f4-428b-9057-4e2698240608",
   "metadata": {},
   "outputs": [
    {
     "data": {
      "text/plain": [
       "상권업종소분류명\n",
       "약국         18964\n",
       "치과의원       13731\n",
       "한의원        13211\n",
       "내과/외과      11374\n",
       "기타병원        4922\n",
       "일반병원        3385\n",
       "동물병원        3098\n",
       "정형/성형외과     2562\n",
       "소아과         2472\n",
       "수의업-종합      2216\n",
       "치과기공소       1724\n",
       "이비인후과의원     1486\n",
       "한약방         1442\n",
       "피부과         1273\n",
       "산부인과        1116\n",
       "노인/치매병원     1055\n",
       "안과의원        1042\n",
       "비뇨기과         809\n",
       "종합병원         762\n",
       "치과병원         756\n",
       "언어치료         664\n",
       "유사의료업기타      629\n",
       "탕제원          517\n",
       "산후조리원        511\n",
       "신경외과         421\n",
       "한방병원         397\n",
       "척추교정치료       338\n",
       "침구원          154\n",
       "혈액원          130\n",
       "응급구조대        125\n",
       "조산원           30\n",
       "접골원            9\n",
       "수의업-기타         9\n",
       "제대혈            1\n",
       "Name: count, dtype: int64"
      ]
     },
     "execution_count": 13,
     "metadata": {},
     "output_type": "execute_result"
    }
   ],
   "source": [
    "df[\"상권업종소분류명\"].value_counts()"
   ]
  },
  {
   "cell_type": "code",
   "execution_count": 14,
   "id": "4a25ba87-d68c-40b5-b26c-705d6f1559e1",
   "metadata": {},
   "outputs": [],
   "source": [
    "df_medi = (df[\"상권업종소분류명\"] == \"피부과\") | (df[\"상권업종소분류명\"] == \"정형/성형외과\")"
   ]
  },
  {
   "cell_type": "code",
   "execution_count": 15,
   "id": "7ba001b5-2c68-4691-9262-1e8449689678",
   "metadata": {},
   "outputs": [],
   "source": [
    "df_hospital = (df[\"상권업종중분류명\"] == \"병원\")"
   ]
  },
  {
   "cell_type": "code",
   "execution_count": 16,
   "id": "f9bad46b-3437-4b4a-b99f-6c8d51fa305b",
   "metadata": {},
   "outputs": [],
   "source": [
    "df_medi_count = df[df_medi & (df[\"시도명\"] == \"서울특별시\")].groupby(\"시군구명\")[\"상가업소번호\"]"
   ]
  },
  {
   "cell_type": "code",
   "execution_count": 17,
   "id": "78678b35-4349-4d35-b23d-a273ebdf8abb",
   "metadata": {},
   "outputs": [],
   "source": [
    "df_medi_seoul_count = df[df_hospital & (df[\"시도명\"] == \"서울특별시\")].groupby(\"시군구명\")[\"상가업소번호\"]"
   ]
  },
  {
   "cell_type": "code",
   "execution_count": 18,
   "id": "bb352a4a-2f5a-42d8-8289-3b159ef5adbb",
   "metadata": {},
   "outputs": [],
   "source": [
    "df_final = df_medi_count.count()/df_medi_seoul_count.count()"
   ]
  },
  {
   "cell_type": "code",
   "execution_count": 19,
   "id": "ebdce5cb-3c49-4b9a-a60f-5762fd696bc8",
   "metadata": {},
   "outputs": [
    {
     "name": "stdout",
     "output_type": "stream",
     "text": [
      "시군구명\n",
      "강남구     0.24\n",
      "서초구     0.17\n",
      "마포구     0.09\n",
      "서대문구    0.08\n",
      "영등포구    0.08\n",
      "강동구     0.07\n",
      "중구      0.07\n",
      "중랑구     0.07\n",
      "강서구     0.07\n",
      "양천구     0.07\n",
      "송파구     0.06\n",
      "광진구     0.06\n",
      "은평구     0.06\n",
      "성북구     0.06\n",
      "구로구     0.06\n",
      "금천구     0.05\n",
      "노원구     0.05\n",
      "성동구     0.05\n",
      "강북구     0.05\n",
      "용산구     0.05\n",
      "관악구     0.04\n",
      "동대문구    0.04\n",
      "동작구     0.04\n",
      "종로구     0.03\n",
      "도봉구     0.02\n",
      "Name: 상가업소번호, dtype: float64\n"
     ]
    }
   ],
   "source": [
    "print(df_final.sort_values(ascending=False).round(2))"
   ]
  },
  {
   "cell_type": "raw",
   "id": "0bdbab69-1a61-45fc-a77a-b8fc62973d25",
   "metadata": {},
   "source": [
    "# 조건 1.\n",
    "서울에 소재한 병원 중 상권업종소분류명에 \"피부\" 나 \"성형\"이 들어간 분류명을 찾아 구해주세요!\n",
    "df[\"상권업종소분류명\"].value_counts()를 통해 상권업종소분류 중 \"피부\"나 \"성형\"이 들어간 분류명 찾기 > \"피부\"나 \"성형\"이 들어간 분류는 \"피부과\"와 \"정형/성형외과\"였음\n",
    "# 조건 2.\n",
    "피부과 성형외과 수 / 전체병원 수 로 비율을 구해주세요!\n",
    "df_medi에 데이터 내에 \"상권업종소분류명\"이 \"피부과\"나 \"정형/성형외과\"인 병원들만 편집\n",
    "전체 \"병원\" 수로 비율을 구해달라고 했기 때문에 \"상업업종중분류명\"이 \"병원\"인 데이터들을 df_hospital에 넣음\n",
    "df_medi_count에 df_medi 중 서울특별시인 병원들만 시군구명을 분류로 해서 편집\n",
    "df_medi_seoul_count에 df_hospital 중 서울특별시인 병원들 전체를 시군구명으로 분류해서 편집\n",
    "df_medi_count.count()/df_medi_seoul_count.count()\n",
    ".count()를 통해 시군구명 병원들을 분류해서 카운팅\n",
    "/를 통해 나눠서 비율을 구함\n",
    "# 조건 3.\n",
    "비율이 높은 순서대로 정렬되게 구해주세요!\n",
    ".sort_values(ascending=False)를 통해 비율이 높은 순서대로 정렬\n",
    "# 조건 4,\n",
    "소숫점 두 번째자리까지 출력하는 방법은 pandas round 로 검색해서 사용법을 알아보세요!\n",
    "print(df.round(2))가 소숫점 두 번째자리까지 출력하는 방법이여서\n",
    "df_medi_count.count()/df_medi_seoul_count.count()를 df_final에 넣어\n",
    "print(df_final.round(2))로 소숫점 두 번째자리까지 출력 (편집됨) "
   ]
  },
  {
   "cell_type": "code",
   "execution_count": null,
   "id": "d0c608b1-87df-4a3f-b54c-55f5147fc7ed",
   "metadata": {},
   "outputs": [],
   "source": []
  }
 ],
 "metadata": {
  "kernelspec": {
   "display_name": "Python 3 (ipykernel)",
   "language": "python",
   "name": "python3"
  },
  "language_info": {
   "codemirror_mode": {
    "name": "ipython",
    "version": 3
   },
   "file_extension": ".py",
   "mimetype": "text/x-python",
   "name": "python",
   "nbconvert_exporter": "python",
   "pygments_lexer": "ipython3",
   "version": "3.12.4"
  }
 },
 "nbformat": 4,
 "nbformat_minor": 5
}
