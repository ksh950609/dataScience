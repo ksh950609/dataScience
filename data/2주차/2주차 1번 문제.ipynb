{
 "cells": [
  {
   "cell_type": "code",
   "execution_count": 1,
   "id": "d48580a8-896e-4a0d-9016-6e091966c94d",
   "metadata": {},
   "outputs": [],
   "source": [
    "import pandas as pd"
   ]
  },
  {
   "cell_type": "code",
   "execution_count": 2,
   "id": "f7baa10b-4724-4964-b24f-5225bdd41693",
   "metadata": {},
   "outputs": [],
   "source": [
    "df = pd.read_csv(\"https://raw.githubusercontent.com/corazzon/boostcourse-ds-510/master/data/medical_201909.csv.zip\", low_memory=False)"
   ]
  },
  {
   "cell_type": "code",
   "execution_count": 3,
   "id": "1edfe0c3-90e8-4d8b-ae44-7910509b9a20",
   "metadata": {},
   "outputs": [
    {
     "data": {
      "text/plain": [
       "(91335, 39)"
      ]
     },
     "execution_count": 3,
     "metadata": {},
     "output_type": "execute_result"
    }
   ],
   "source": [
    "df.shape"
   ]
  },
  {
   "cell_type": "code",
   "execution_count": 4,
   "id": "a3553378-9496-4cc8-ac91-77ffa476e304",
   "metadata": {},
   "outputs": [],
   "source": [
    "df_pharmacies = df[df['상권업종소분류명'] == '약국']"
   ]
  },
  {
   "cell_type": "code",
   "execution_count": 5,
   "id": "b492a7cf-bcbc-4045-9a48-7ad691d2ac0c",
   "metadata": {},
   "outputs": [
    {
     "name": "stdout",
     "output_type": "stream",
     "text": [
      "시도명\n",
      "경기도        4510\n",
      "서울특별시      3579\n",
      "부산광역시      1130\n",
      "경상남도       1017\n",
      "인천광역시      1002\n",
      "경상북도        915\n",
      "대구광역시       870\n",
      "전라북도        862\n",
      "충청남도        830\n",
      "전라남도        811\n",
      "강원도         729\n",
      "광주광역시       691\n",
      "충청북도        648\n",
      "대전광역시       603\n",
      "울산광역시       362\n",
      "제주특별자치도     226\n",
      "세종특별자치시      99\n",
      "Name: count, dtype: int64\n"
     ]
    }
   ],
   "source": [
    "#지역별로 빈도수 계산\n",
    "frequency_value_counts = df_pharmacies['시도명'].value_counts()\n",
    "print(frequency_value_counts)"
   ]
  }
 ],
 "metadata": {
  "kernelspec": {
   "display_name": "Python 3 (ipykernel)",
   "language": "python",
   "name": "python3"
  },
  "language_info": {
   "codemirror_mode": {
    "name": "ipython",
    "version": 3
   },
   "file_extension": ".py",
   "mimetype": "text/x-python",
   "name": "python",
   "nbconvert_exporter": "python",
   "pygments_lexer": "ipython3",
   "version": "3.12.4"
  }
 },
 "nbformat": 4,
 "nbformat_minor": 5
}
