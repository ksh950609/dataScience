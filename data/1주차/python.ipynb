{
 "cells": [
  {
   "cell_type": "markdown",
   "id": "de74e5f6-3b30-47ed-ac5f-5f899dd612ad",
   "metadata": {},
   "source": [
    "# Zen of pyhton\n",
    "* 파이썬의 철학이 잘 담겨 있는 zen of python을 출력해 봅시다.\n",
    "* import를 통해 파이썬의 라이브러리나 패키지를 가져올 수 있습니다."
   ]
  },
  {
   "cell_type": "code",
   "execution_count": 1,
   "id": "66dfa139-6522-44b1-8584-9524b797eacb",
   "metadata": {},
   "outputs": [
    {
     "name": "stdout",
     "output_type": "stream",
     "text": [
      "The Zen of Python, by Tim Peters\n",
      "\n",
      "Beautiful is better than ugly.\n",
      "Explicit is better than implicit.\n",
      "Simple is better than complex.\n",
      "Complex is better than complicated.\n",
      "Flat is better than nested.\n",
      "Sparse is better than dense.\n",
      "Readability counts.\n",
      "Special cases aren't special enough to break the rules.\n",
      "Although practicality beats purity.\n",
      "Errors should never pass silently.\n",
      "Unless explicitly silenced.\n",
      "In the face of ambiguity, refuse the temptation to guess.\n",
      "There should be one-- and preferably only one --obvious way to do it.\n",
      "Although that way may not be obvious at first unless you're Dutch.\n",
      "Now is better than never.\n",
      "Although never is often better than *right* now.\n",
      "If the implementation is hard to explain, it's a bad idea.\n",
      "If the implementation is easy to explain, it may be a good idea.\n",
      "Namespaces are one honking great idea -- let's do more of those!\n"
     ]
    }
   ],
   "source": [
    "# pep20\n",
    "import this"
   ]
  },
  {
   "cell_type": "code",
   "execution_count": null,
   "id": "1dcab956-08ea-4b2f-ae4b-22d7aefbf764",
   "metadata": {},
   "outputs": [],
   "source": [
    "# boolean\n",
    "* 파이썬에는 명시적인 것이 암시적인 것보다 낫다라는 철학이 있다\n",
    "* True나 False는 0이나 1로도 표현할 수 있으나 명시적으로 표현하기 위해 True나 False로 사용"
   ]
  },
  {
   "cell_type": "code",
   "execution_count": 9,
   "id": "53496c4c-a5d5-413e-a772-e401dea747a3",
   "metadata": {},
   "outputs": [
    {
     "data": {
      "text/plain": [
       "True"
      ]
     },
     "execution_count": 9,
     "metadata": {},
     "output_type": "execute_result"
    }
   ],
   "source": [
    "# True로 출력해 보세요 \n",
    "True"
   ]
  },
  {
   "cell_type": "code",
   "execution_count": 8,
   "id": "2b377cdc-f62f-4bfb-912e-868ec0bab978",
   "metadata": {},
   "outputs": [
    {
     "data": {
      "text/plain": [
       "False"
      ]
     },
     "execution_count": 8,
     "metadata": {},
     "output_type": "execute_result"
    }
   ],
   "source": [
    "# False로 출력해 보세요 \n",
    "False"
   ]
  },
  {
   "cell_type": "code",
   "execution_count": 10,
   "id": "5dcc8584-21fc-4899-aec0-b5d0a07b5321",
   "metadata": {},
   "outputs": [
    {
     "data": {
      "text/plain": [
       "True"
      ]
     },
     "execution_count": 10,
     "metadata": {},
     "output_type": "execute_result"
    }
   ],
   "source": [
    "# True는 1과 같음을 표현해 보세요. 파이썬에서는 같음을 비교할 때는 ==을 사용합니다.\n",
    "True == 1"
   ]
  },
  {
   "cell_type": "code",
   "execution_count": 11,
   "id": "edd23909-f853-4c22-8caf-e3c46156ca57",
   "metadata": {},
   "outputs": [
    {
     "data": {
      "text/plain": [
       "True"
      ]
     },
     "execution_count": 11,
     "metadata": {},
     "output_type": "execute_result"
    }
   ],
   "source": [
    "# False는 0과 같음을 표현해 보세요. 파이썬에서는 같음을 비교할 때는 ==을 사용합니다.\n",
    "False == 0"
   ]
  },
  {
   "cell_type": "code",
   "execution_count": 12,
   "id": "2d7f973a-3420-47b2-97cd-69e16faa2bc2",
   "metadata": {},
   "outputs": [
    {
     "data": {
      "text/plain": [
       "False"
      ]
     },
     "execution_count": 12,
     "metadata": {},
     "output_type": "execute_result"
    }
   ],
   "source": [
    "#하지만 Ture는 문자 1과는 다릅니다. 1을 따음표로 감싸면 문자열이 됩니다.\n",
    "True == \"1\""
   ]
  },
  {
   "cell_type": "code",
   "execution_count": 14,
   "id": "1d697fe2-9a04-45f4-8042-1a3db68640b0",
   "metadata": {},
   "outputs": [
    {
     "data": {
      "text/plain": [
       "True"
      ]
     },
     "execution_count": 14,
     "metadata": {},
     "output_type": "execute_result"
    }
   ],
   "source": [
    "#문자열 1과 True는 다릅니다.\n",
    "True != \"1\""
   ]
  },
  {
   "cell_type": "code",
   "execution_count": 15,
   "id": "3c5b1dc7-c345-4220-bdb7-3c0f30fecbcd",
   "metadata": {},
   "outputs": [
    {
     "data": {
      "text/plain": [
       "True"
      ]
     },
     "execution_count": 15,
     "metadata": {},
     "output_type": "execute_result"
    }
   ],
   "source": [
    "# False도 마찬가지이다\n",
    "False != \"0\""
   ]
  },
  {
   "cell_type": "code",
   "execution_count": 16,
   "id": "990cbcd6-d8f0-495b-9167-29e07524fc99",
   "metadata": {},
   "outputs": [
    {
     "data": {
      "text/plain": [
       "True"
      ]
     },
     "execution_count": 16,
     "metadata": {},
     "output_type": "execute_result"
    }
   ],
   "source": [
    "#False는 문자열 0과 다릅니다.\n",
    "False != \"0\""
   ]
  },
  {
   "cell_type": "code",
   "execution_count": 17,
   "id": "803de0cd-695f-4baf-8a3b-7a2a2d8b17b6",
   "metadata": {},
   "outputs": [
    {
     "data": {
      "text/plain": [
       "True"
      ]
     },
     "execution_count": 17,
     "metadata": {},
     "output_type": "execute_result"
    }
   ],
   "source": [
    "# and 연산으로 True값 까리 비교합니다.\n",
    "# and 는 모든 값이 True 일때만 True가 됩니다.\n",
    "True and True"
   ]
  },
  {
   "cell_type": "code",
   "execution_count": 18,
   "id": "df944764-d5c9-4434-86a4-dfac7bc73e0c",
   "metadata": {},
   "outputs": [
    {
     "data": {
      "text/plain": [
       "False"
      ]
     },
     "execution_count": 18,
     "metadata": {},
     "output_type": "execute_result"
    }
   ],
   "source": [
    "# and는 조건 중 하나라도 False가 되면 False가 됩니다.\n",
    "True and False"
   ]
  },
  {
   "cell_type": "code",
   "execution_count": 21,
   "id": "213c7b0e-5ba5-41d6-837c-558667455168",
   "metadata": {},
   "outputs": [
    {
     "data": {
      "text/plain": [
       "True"
      ]
     },
     "execution_count": 21,
     "metadata": {},
     "output_type": "execute_result"
    }
   ],
   "source": [
    "# OR은 하나만 TRUE라도 TRUE가 됩니다.\n",
    "True or False"
   ]
  },
  {
   "cell_type": "code",
   "execution_count": null,
   "id": "2f021514-b774-44e5-be8f-462aab875435",
   "metadata": {},
   "outputs": [],
   "source": [
    "# Number and String\n",
    "* 숫자 1과 문자 \"1\"은 다릅니다. 숫자 1과 문자 1의 데이터 타입을 출력하세요\n",
    "* 데이터 타입을 표현할 떄 type을 통해 data를 출력합니다."
   ]
  },
  {
   "cell_type": "code",
   "execution_count": 22,
   "id": "aad47437-a961-4d76-aa36-ccb8ed4f06df",
   "metadata": {},
   "outputs": [
    {
     "data": {
      "text/plain": [
       "1"
      ]
     },
     "execution_count": 22,
     "metadata": {},
     "output_type": "execute_result"
    }
   ],
   "source": [
    "# 숫자 1을 출력하세요 \n",
    "1"
   ]
  },
  {
   "cell_type": "code",
   "execution_count": 24,
   "id": "b3520bd0-34c7-49b6-bb46-82bb38e57adb",
   "metadata": {},
   "outputs": [
    {
     "data": {
      "text/plain": [
       "'1'"
      ]
     },
     "execution_count": 24,
     "metadata": {},
     "output_type": "execute_result"
    }
   ],
   "source": [
    "#문자 1를 출력하세요 \n",
    "\"1\""
   ]
  },
  {
   "cell_type": "code",
   "execution_count": 25,
   "id": "c5150e3e-8b75-43bb-9bff-98606b976a54",
   "metadata": {},
   "outputs": [
    {
     "data": {
      "text/plain": [
       "int"
      ]
     },
     "execution_count": 25,
     "metadata": {},
     "output_type": "execute_result"
    }
   ],
   "source": [
    "# 숫자 1의 데이터 타입을 출력해 보세요\n",
    "type(1)"
   ]
  },
  {
   "cell_type": "code",
   "execution_count": 26,
   "id": "3ad2627e-3cf1-4800-82b7-6d4db2dddd4a",
   "metadata": {},
   "outputs": [
    {
     "data": {
      "text/plain": [
       "str"
      ]
     },
     "execution_count": 26,
     "metadata": {},
     "output_type": "execute_result"
    }
   ],
   "source": [
    "# 문자 1의 데이터 타입을 출력해 보세요\n",
    "type(\"1\")"
   ]
  },
  {
   "cell_type": "code",
   "execution_count": 27,
   "id": "a9c0de5a-38d1-429f-a85c-a8330bbb3d62",
   "metadata": {},
   "outputs": [
    {
     "data": {
      "text/plain": [
       "'Hello World'"
      ]
     },
     "execution_count": 27,
     "metadata": {},
     "output_type": "execute_result"
    }
   ],
   "source": [
    "#Hello World를 출력해보세용\n",
    "\"Hello World\""
   ]
  },
  {
   "cell_type": "code",
   "execution_count": 28,
   "id": "319f0d8d-3bdd-41d2-915f-b9001ac092cf",
   "metadata": {},
   "outputs": [
    {
     "data": {
      "text/plain": [
       "'경기도 성남시 분당구'"
      ]
     },
     "execution_count": 28,
     "metadata": {},
     "output_type": "execute_result"
    }
   ],
   "source": [
    "# 주소 \"경기도 성남시 분당구\"를 출력해 보세요\n",
    "\"경기도 성남시 분당구\""
   ]
  },
  {
   "cell_type": "code",
   "execution_count": null,
   "id": "89163ba2-05f9-4da7-928a-5f93640f0c27",
   "metadata": {},
   "outputs": [],
   "source": [
    "# == 비교연산\n",
    "# = 할당연산"
   ]
  },
  {
   "cell_type": "code",
   "execution_count": 32,
   "id": "2dfb5733-5846-4507-a75a-1a096b51654f",
   "metadata": {},
   "outputs": [
    {
     "data": {
      "text/plain": [
       "'Today I learned'"
      ]
     },
     "execution_count": 32,
     "metadata": {},
     "output_type": "execute_result"
    }
   ],
   "source": [
    "# Til이라는 변수에 문자열을 담아봅시다.\n",
    "til = \"Today I learned\"\n",
    "til"
   ]
  },
  {
   "cell_type": "code",
   "execution_count": 33,
   "id": "3ed28a78-5b42-473e-857a-414fb2a6417e",
   "metadata": {},
   "outputs": [
    {
     "data": {
      "text/plain": [
       "'today i learned'"
      ]
     },
     "execution_count": 33,
     "metadata": {},
     "output_type": "execute_result"
    }
   ],
   "source": [
    "# 모든 til를 소문자로 만드세요\n",
    "til.lower()"
   ]
  },
  {
   "cell_type": "code",
   "execution_count": 34,
   "id": "74b90a43-07d1-408f-a647-46e4c62a6682",
   "metadata": {},
   "outputs": [
    {
     "data": {
      "text/plain": [
       "'TODAY I LEARNED'"
      ]
     },
     "execution_count": 34,
     "metadata": {},
     "output_type": "execute_result"
    }
   ],
   "source": [
    "# 대문자로 만드세요\n",
    "til.upper()"
   ]
  },
  {
   "cell_type": "code",
   "execution_count": 36,
   "id": "79c8e6e1-75ba-4e07-adce-c1a43a8d9b58",
   "metadata": {},
   "outputs": [],
   "source": [
    "# LISTS\n",
    "#비어있는 리스트를 만듭니다. lang이라는 변수에 담습니다.\n",
    "lang = []\n",
    "lang"
   ]
  },
  {
   "cell_type": "code",
   "execution_count": 37,
   "id": "278a2d4c-d3e7-4ec2-aade-968377fef6f1",
   "metadata": {},
   "outputs": [
    {
     "data": {
      "text/plain": [
       "['python', 'java', 'C']"
      ]
     },
     "execution_count": 37,
     "metadata": {},
     "output_type": "execute_result"
    }
   ],
   "source": [
    "#파이썬, java, c 를 넣으세요 append\n",
    "lang.append(\"python\")\n",
    "lang.append(\"java\")\n",
    "lang.append(\"C\")\n",
    "lang"
   ]
  },
  {
   "cell_type": "code",
   "execution_count": 38,
   "id": "0bdf6de4-cbd4-49f7-b12a-afd97813ef5a",
   "metadata": {},
   "outputs": [
    {
     "data": {
      "text/plain": [
       "'python'"
      ]
     },
     "execution_count": 38,
     "metadata": {},
     "output_type": "execute_result"
    }
   ],
   "source": [
    "# lang이라는 변수에 담겨있는 언어명을 인덱싱을 통해 가져옵니다.\n",
    "lang[0]"
   ]
  },
  {
   "cell_type": "code",
   "execution_count": 39,
   "id": "fcc5e5ec-df87-421d-b8c8-0157cdff7613",
   "metadata": {},
   "outputs": [
    {
     "data": {
      "text/plain": [
       "'java'"
      ]
     },
     "execution_count": 39,
     "metadata": {},
     "output_type": "execute_result"
    }
   ],
   "source": [
    "#1번 인덱스\n",
    "lang[1]"
   ]
  },
  {
   "cell_type": "code",
   "execution_count": 41,
   "id": "be6c1551-8881-406e-bdae-8da79fb4139e",
   "metadata": {},
   "outputs": [
    {
     "data": {
      "text/plain": [
       "'C'"
      ]
     },
     "execution_count": 41,
     "metadata": {},
     "output_type": "execute_result"
    }
   ],
   "source": [
    "#마지막 인덱스\n",
    "lang[-1]"
   ]
  },
  {
   "cell_type": "code",
   "execution_count": null,
   "id": "c15c23bc-c34d-41c5-a748-8523941b43ba",
   "metadata": {},
   "outputs": [],
   "source": [
    "#Control Flow\n",
    "# 제어문 - 조건문, 반복문"
   ]
  },
  {
   "cell_type": "code",
   "execution_count": 42,
   "id": "ae4a59ed-094c-4778-a8ad-f97a6b39cd3e",
   "metadata": {},
   "outputs": [
    {
     "name": "stdout",
     "output_type": "stream",
     "text": [
      "python\n",
      "java\n",
      "C\n"
     ]
    }
   ],
   "source": [
    "#반복문을 사용해서 리스트의 원소를 하나씩 출력한다\n",
    "for i in lang:\n",
    "    print(i)"
   ]
  },
  {
   "cell_type": "code",
   "execution_count": 44,
   "id": "478e2192-d0a3-4f03-a521-b654f645df96",
   "metadata": {},
   "outputs": [
    {
     "name": "stdout",
     "output_type": "stream",
     "text": [
      "python\n",
      "기타\n",
      "기타\n"
     ]
    }
   ],
   "source": [
    "#위 코드에서 python일 때는 그대로 출력하고 나머지가 텍스트는 기타라고 출력 \n",
    "# 출력 결과가 아래의 순서로 나오게한다\n",
    "# python\n",
    "# 기타\n",
    "# 기타 \n",
    "for i in lang : \n",
    "    if i == \"python\":\n",
    "        print(\"python\")\n",
    "    else:\n",
    "        print(\"기타\")"
   ]
  },
  {
   "cell_type": "code",
   "execution_count": 51,
   "id": "70abef1c-94e9-4018-8302-772fe1b28d5a",
   "metadata": {},
   "outputs": [
    {
     "name": "stdout",
     "output_type": "stream",
     "text": [
      "python\n",
      "java\n",
      "C\n"
     ]
    }
   ],
   "source": [
    "# 특정 횟수 만큼 반목을 실행라라\n",
    "count = len(lang)\n",
    "for i in range(3):\n",
    "    print(lang[i])"
   ]
  },
  {
   "cell_type": "code",
   "execution_count": 59,
   "id": "2d24c9a3-04a5-4c0a-bcad-082ecdf1bab4",
   "metadata": {},
   "outputs": [
    {
     "name": "stdout",
     "output_type": "stream",
     "text": [
      "java\n",
      "python\n",
      "java\n",
      "python\n",
      "java\n",
      "python\n",
      "java\n",
      "python\n",
      "java\n"
     ]
    }
   ],
   "source": [
    "# for문과 if문을 사용하세요\n",
    "# 짝수일 떄 pyhton을 홀수 일떄 \"java\"를 출력한다\n",
    "for i in range(1, 10):\n",
    "    if i % 2 == 0:\n",
    "        print(\"python\")\n",
    "    else:\n",
    "        print(\"java\")"
   ]
  },
  {
   "cell_type": "code",
   "execution_count": 62,
   "id": "66c7413a-6f29-4cce-8c36-37c55bc289b2",
   "metadata": {},
   "outputs": [
    {
     "name": "stdout",
     "output_type": "stream",
     "text": [
      "0 python\n",
      "1 java\n",
      "2 C\n"
     ]
    }
   ],
   "source": [
    "# enumerate를 사용하면 인덱스 번호와 원소를 같이 가지고 올 수 있다.\n",
    "for i, val in enumerate(lang):\n",
    "    print(i, val)"
   ]
  },
  {
   "cell_type": "code",
   "execution_count": 63,
   "id": "5f5c03c3-df8b-461f-b600-f0e04865ef44",
   "metadata": {},
   "outputs": [
    {
     "data": {
      "text/plain": [
       "' 경기도 성남시 분당구 불정로 6 '"
      ]
     },
     "execution_count": 63,
     "metadata": {},
     "output_type": "execute_result"
    }
   ],
   "source": [
    "# 주소를 address 변수에 담는다\n",
    "address = \" 경기도 성남시 분당구 불정로 6 \"\n",
    "address"
   ]
  },
  {
   "cell_type": "code",
   "execution_count": 66,
   "id": "7879bb26-a0a5-438d-a604-d4b87ab5b167",
   "metadata": {},
   "outputs": [
    {
     "data": {
      "text/plain": [
       "'경기도 성남시 분당구 불정로 6'"
      ]
     },
     "execution_count": 66,
     "metadata": {},
     "output_type": "execute_result"
    }
   ],
   "source": [
    "# 앞뒤 공백을 제거한다\n",
    "# 데이터 전처리 시 주로 사용한다\n",
    "address = address.strip()\n",
    "address"
   ]
  },
  {
   "cell_type": "code",
   "execution_count": 67,
   "id": "d44f1c45-4c4d-4972-8f52-6326aa85adbd",
   "metadata": {},
   "outputs": [
    {
     "data": {
      "text/plain": [
       "17"
      ]
     },
     "execution_count": 67,
     "metadata": {},
     "output_type": "execute_result"
    }
   ],
   "source": [
    "# 문자열의 길이\n",
    "len(address)"
   ]
  },
  {
   "cell_type": "code",
   "execution_count": 73,
   "id": "5d37c28c-e829-48bc-a0ff-5ba841fd62f7",
   "metadata": {},
   "outputs": [
    {
     "data": {
      "text/plain": [
       "['경기도', '성남시', '분당구', '불정로', '6']"
      ]
     },
     "execution_count": 73,
     "metadata": {},
     "output_type": "execute_result"
    }
   ],
   "source": [
    "# 공백으로 문자열 분리\n",
    "address_list = address.split()\n",
    "address_list"
   ]
  },
  {
   "cell_type": "code",
   "execution_count": 74,
   "id": "cd848a8c-f58f-43bf-8a50-768b4b7b9192",
   "metadata": {},
   "outputs": [
    {
     "data": {
      "text/plain": [
       "5"
      ]
     },
     "execution_count": 74,
     "metadata": {},
     "output_type": "execute_result"
    }
   ],
   "source": [
    "#리스트의 길이\n",
    "len(address_list)"
   ]
  },
  {
   "cell_type": "code",
   "execution_count": 76,
   "id": "e6d4d620-aaf9-41ea-a865-161b11e904c0",
   "metadata": {},
   "outputs": [
    {
     "data": {
      "text/plain": [
       "'경기'"
      ]
     },
     "execution_count": 76,
     "metadata": {},
     "output_type": "execute_result"
    }
   ],
   "source": [
    "#슬라이싱으로 문자 가져오기\n",
    "address[:2]"
   ]
  },
  {
   "cell_type": "code",
   "execution_count": 77,
   "id": "6d7f44dd-4223-4b5f-9789-94f09c5c992a",
   "metadata": {},
   "outputs": [
    {
     "data": {
      "text/plain": [
       "True"
      ]
     },
     "execution_count": 77,
     "metadata": {},
     "output_type": "execute_result"
    }
   ],
   "source": [
    "# startWith를 사용하면 특정 문자가 포함되는지 여부를 확인 가능\n",
    "address.startswith(\"경기\")"
   ]
  },
  {
   "cell_type": "code",
   "execution_count": 78,
   "id": "16e352d2-6130-4549-aad2-8c3b1767d9f8",
   "metadata": {},
   "outputs": [
    {
     "data": {
      "text/plain": [
       "True"
      ]
     },
     "execution_count": 78,
     "metadata": {},
     "output_type": "execute_result"
    }
   ],
   "source": [
    "# in를 사용하면 특정 문자열을 포함하고 있는지 여부를 확인할 수 있다.\n",
    "\"경기\" in address"
   ]
  },
  {
   "cell_type": "code",
   "execution_count": 82,
   "id": "0dc88dc9-317a-4a6b-845d-bc854de83503",
   "metadata": {},
   "outputs": [
    {
     "data": {
      "text/plain": [
       "'분당구'"
      ]
     },
     "execution_count": 82,
     "metadata": {},
     "output_type": "execute_result"
    }
   ],
   "source": [
    "# 인덱싱으로 리2스트의 원소 가져오기 - 주소에서 구를 가져와 gu라는 변수를 담으세요\n",
    "\n",
    "gu  =address_list[2]\n",
    "gu"
   ]
  },
  {
   "cell_type": "code",
   "execution_count": 84,
   "id": "24f1d48c-75b5-4241-aca8-53c5069bf980",
   "metadata": {},
   "outputs": [
    {
     "data": {
      "text/plain": [
       "'불정로'"
      ]
     },
     "execution_count": 84,
     "metadata": {},
     "output_type": "execute_result"
    }
   ],
   "source": [
    "#인덱싱으로 리스트의 원소 가져오기 - 주소에서 도로명을 가져와 streer 이라는 변수에 담라\n",
    "street  =address_list[3]\n",
    "street"
   ]
  },
  {
   "cell_type": "code",
   "execution_count": 86,
   "id": "23cd93c3-8001-4e57-89ad-164a50c63498",
   "metadata": {},
   "outputs": [
    {
     "data": {
      "text/plain": [
       "'6'"
      ]
     },
     "execution_count": 86,
     "metadata": {},
     "output_type": "execute_result"
    }
   ],
   "source": [
    "# 리스트의 마지막을 가져온다\n",
    "address_list[-1]"
   ]
  },
  {
   "cell_type": "code",
   "execution_count": 87,
   "id": "990650d9-7754-47a6-8354-27a3e0f3c10d",
   "metadata": {},
   "outputs": [
    {
     "data": {
      "text/plain": [
       "'경기도-성남시-분당구-불정로-6'"
      ]
     },
     "execution_count": 87,
     "metadata": {},
     "output_type": "execute_result"
    }
   ],
   "source": [
    "# \"\".join를 사용하면 리스트를 공백 문자열을 연결할 수 있습니다.\n",
    "# 리스트로 분리된 문자열을 다시 연결합니다.\n",
    "\"-\".join(address_list)"
   ]
  },
  {
   "cell_type": "code",
   "execution_count": 93,
   "id": "85e5f6a2-a18e-4311-a699-026dd41c22fe",
   "metadata": {},
   "outputs": [
    {
     "data": {
      "text/plain": [
       "True"
      ]
     },
     "execution_count": 93,
     "metadata": {},
     "output_type": "execute_result"
    }
   ],
   "source": [
    "# in을 사용하게 되면 리스트에 해당 데이터를 포함하고 있는지 여부를 확인 할 수 있습니다.\n",
    "\"경기도\" in address_list"
   ]
  },
  {
   "cell_type": "code",
   "execution_count": 91,
   "id": "38176581-0fca-4dc8-aef0-e35ed31a317f",
   "metadata": {},
   "outputs": [
    {
     "data": {
      "text/plain": [
       "True"
      ]
     },
     "execution_count": 91,
     "metadata": {},
     "output_type": "execute_result"
    }
   ],
   "source": [
    "\"분당구\" in address_list"
   ]
  }
 ],
 "metadata": {
  "kernelspec": {
   "display_name": "Python 3 (ipykernel)",
   "language": "python",
   "name": "python3"
  },
  "language_info": {
   "codemirror_mode": {
    "name": "ipython",
    "version": 3
   },
   "file_extension": ".py",
   "mimetype": "text/x-python",
   "name": "python",
   "nbconvert_exporter": "python",
   "pygments_lexer": "ipython3",
   "version": "3.12.4"
  }
 },
 "nbformat": 4,
 "nbformat_minor": 5
}
