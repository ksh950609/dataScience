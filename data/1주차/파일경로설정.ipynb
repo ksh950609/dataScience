{
 "cells": [
  {
   "cell_type": "code",
   "execution_count": 95,
   "id": "0e38bc54-d2cb-47e1-834a-42e9c8e47b3c",
   "metadata": {},
   "outputs": [
    {
     "data": {
      "text/plain": [
       "'C:\\\\jupyter\\\\notebook'"
      ]
     },
     "execution_count": 95,
     "metadata": {},
     "output_type": "execute_result"
    }
   ],
   "source": [
    "%pwd\n"
   ]
  },
  {
   "cell_type": "code",
   "execution_count": 96,
   "id": "39b4f747-5044-4bca-b76b-bedefb8a03a1",
   "metadata": {},
   "outputs": [
    {
     "data": {
      "text/plain": [
       "'C:\\\\jupyter\\\\notebook'"
      ]
     },
     "execution_count": 96,
     "metadata": {},
     "output_type": "execute_result"
    }
   ],
   "source": [
    "import os\n",
    "os.getcwd()"
   ]
  },
  {
   "cell_type": "code",
   "execution_count": 18,
   "id": "190d5ae1-10c9-4abf-b431-bb92899bef75",
   "metadata": {},
   "outputs": [
    {
     "data": {
      "text/plain": [
       "['data\\\\도로교통공단_사고유형별 교통사고 통계_20231231.csv']"
      ]
     },
     "execution_count": 18,
     "metadata": {},
     "output_type": "execute_result"
    }
   ],
   "source": [
    "from glob import glob\n",
    "file_name = glob(\"data/*\")\n",
    "file_name"
   ]
  },
  {
   "cell_type": "code",
   "execution_count": 6,
   "id": "c7f68f19-4a8a-4e46-a714-a3e656b7d373",
   "metadata": {},
   "outputs": [],
   "source": [
    "import pandas as pd"
   ]
  },
  {
   "cell_type": "code",
   "execution_count": 54,
   "id": "2c284e4a-193a-4879-9df7-fe33e9b88b9e",
   "metadata": {},
   "outputs": [
    {
     "name": "stdout",
     "output_type": "stream",
     "text": [
      "   사고유형대분류     사고유형중분류        사고유형   사고건수  사망자수   중상자수   경상자수  부상신고자수\n",
      "0     차대사람         횡단중         횡단중  13081   419   5868   6999     664\n",
      "1     차대사람       차도통행중       차도통행중   4507   135   1704   2491     355\n",
      "2     차대사람  길가장자리구역통행중  길가장자리구역통행중   1985    28    544   1303     190\n",
      "3     차대사람       보도통행중       보도통행중   2632    24    849   1735     206\n",
      "4     차대사람          기타          기타  14791   253   4778   9111    1466\n",
      "5      차대차        정면충돌        정면충돌   7899   162   3498   8781     612\n",
      "6      차대차        측면충돌        측면충돌  65621   317  15386  77040    5983\n",
      "7      차대차       후진중충돌       후진중충돌   4017     3    301   4724     254\n",
      "8      차대차          추돌          추돌  31939   325   7197  46557    3300\n",
      "9      차대차          기타          기타  43459   234   9735  48179    4740\n",
      "10    차량단독          전도          전도    895    83    329    395     185\n",
      "11    차량단독          전복          전복    130    18     48     71      20\n",
      "12    차량단독       공작물충돌       공작물충돌   2809   307   1163   1619     587\n",
      "13    차량단독   주/정차차량 충돌   주/정차차량 충돌     23     1     10      7       8\n",
      "14    차량단독        도로이탈     도로이탈 추락    323    86    182    112      40\n",
      "15    차량단독        도로이탈     도로이탈 기타    157    21     67     67      39\n",
      "16    차량단독          기타          기타   4026   134   1330   2377     592\n",
      "17   철길건널목       철길건널목       철길건널목      2     1      0      1       0\n"
     ]
    }
   ],
   "source": [
    "df = pd.read_csv(\"data/도로교통공단_사고유형별 교통사고 통계_20231231.csv\", encoding='cp949')\n",
    "print(df)\n"
   ]
  },
  {
   "cell_type": "code",
   "execution_count": 56,
   "id": "0683db99-36bb-4f1d-a034-1c66313467af",
   "metadata": {},
   "outputs": [
    {
     "name": "stderr",
     "output_type": "stream",
     "text": [
      "C:\\Users\\ksh95\\AppData\\Local\\Temp\\ipykernel_14980\\3056623666.py:11: DtypeWarning: Columns (2) have mixed types. Specify dtype option on import or set low_memory=False.\n",
      "  df = pd.read_csv(file_csv_name)\n"
     ]
    },
    {
     "name": "stdout",
     "output_type": "stream",
     "text": [
      "data/store\\소상공인시장진흥공단_상가(상권)정보_강원_202406.csv\n"
     ]
    },
    {
     "name": "stderr",
     "output_type": "stream",
     "text": [
      "C:\\Users\\ksh95\\AppData\\Local\\Temp\\ipykernel_14980\\3056623666.py:11: DtypeWarning: Columns (2) have mixed types. Specify dtype option on import or set low_memory=False.\n",
      "  df = pd.read_csv(file_csv_name)\n"
     ]
    },
    {
     "name": "stdout",
     "output_type": "stream",
     "text": [
      "data/store\\소상공인시장진흥공단_상가(상권)정보_경기_202406.csv\n"
     ]
    },
    {
     "name": "stderr",
     "output_type": "stream",
     "text": [
      "C:\\Users\\ksh95\\AppData\\Local\\Temp\\ipykernel_14980\\3056623666.py:11: DtypeWarning: Columns (2) have mixed types. Specify dtype option on import or set low_memory=False.\n",
      "  df = pd.read_csv(file_csv_name)\n"
     ]
    },
    {
     "name": "stdout",
     "output_type": "stream",
     "text": [
      "data/store\\소상공인시장진흥공단_상가(상권)정보_경남_202406.csv\n"
     ]
    },
    {
     "name": "stderr",
     "output_type": "stream",
     "text": [
      "C:\\Users\\ksh95\\AppData\\Local\\Temp\\ipykernel_14980\\3056623666.py:11: DtypeWarning: Columns (2) have mixed types. Specify dtype option on import or set low_memory=False.\n",
      "  df = pd.read_csv(file_csv_name)\n"
     ]
    },
    {
     "name": "stdout",
     "output_type": "stream",
     "text": [
      "data/store\\소상공인시장진흥공단_상가(상권)정보_경북_202406.csv\n"
     ]
    },
    {
     "name": "stderr",
     "output_type": "stream",
     "text": [
      "C:\\Users\\ksh95\\AppData\\Local\\Temp\\ipykernel_14980\\3056623666.py:11: DtypeWarning: Columns (2) have mixed types. Specify dtype option on import or set low_memory=False.\n",
      "  df = pd.read_csv(file_csv_name)\n"
     ]
    },
    {
     "name": "stdout",
     "output_type": "stream",
     "text": [
      "data/store\\소상공인시장진흥공단_상가(상권)정보_광주_202406.csv\n"
     ]
    },
    {
     "name": "stderr",
     "output_type": "stream",
     "text": [
      "C:\\Users\\ksh95\\AppData\\Local\\Temp\\ipykernel_14980\\3056623666.py:11: DtypeWarning: Columns (2) have mixed types. Specify dtype option on import or set low_memory=False.\n",
      "  df = pd.read_csv(file_csv_name)\n"
     ]
    },
    {
     "name": "stdout",
     "output_type": "stream",
     "text": [
      "data/store\\소상공인시장진흥공단_상가(상권)정보_대구_202406.csv\n"
     ]
    },
    {
     "name": "stderr",
     "output_type": "stream",
     "text": [
      "C:\\Users\\ksh95\\AppData\\Local\\Temp\\ipykernel_14980\\3056623666.py:11: DtypeWarning: Columns (2) have mixed types. Specify dtype option on import or set low_memory=False.\n",
      "  df = pd.read_csv(file_csv_name)\n"
     ]
    },
    {
     "name": "stdout",
     "output_type": "stream",
     "text": [
      "data/store\\소상공인시장진흥공단_상가(상권)정보_대전_202406.csv\n"
     ]
    },
    {
     "name": "stderr",
     "output_type": "stream",
     "text": [
      "C:\\Users\\ksh95\\AppData\\Local\\Temp\\ipykernel_14980\\3056623666.py:11: DtypeWarning: Columns (2) have mixed types. Specify dtype option on import or set low_memory=False.\n",
      "  df = pd.read_csv(file_csv_name)\n"
     ]
    },
    {
     "name": "stdout",
     "output_type": "stream",
     "text": [
      "data/store\\소상공인시장진흥공단_상가(상권)정보_부산_202406.csv\n"
     ]
    },
    {
     "name": "stderr",
     "output_type": "stream",
     "text": [
      "C:\\Users\\ksh95\\AppData\\Local\\Temp\\ipykernel_14980\\3056623666.py:11: DtypeWarning: Columns (2) have mixed types. Specify dtype option on import or set low_memory=False.\n",
      "  df = pd.read_csv(file_csv_name)\n"
     ]
    },
    {
     "name": "stdout",
     "output_type": "stream",
     "text": [
      "data/store\\소상공인시장진흥공단_상가(상권)정보_서울_202406.csv\n",
      "data/store\\소상공인시장진흥공단_상가(상권)정보_세종_202406.csv\n"
     ]
    },
    {
     "name": "stderr",
     "output_type": "stream",
     "text": [
      "C:\\Users\\ksh95\\AppData\\Local\\Temp\\ipykernel_14980\\3056623666.py:11: DtypeWarning: Columns (2,35) have mixed types. Specify dtype option on import or set low_memory=False.\n",
      "  df = pd.read_csv(file_csv_name)\n"
     ]
    },
    {
     "name": "stdout",
     "output_type": "stream",
     "text": [
      "data/store\\소상공인시장진흥공단_상가(상권)정보_울산_202406.csv\n"
     ]
    },
    {
     "name": "stderr",
     "output_type": "stream",
     "text": [
      "C:\\Users\\ksh95\\AppData\\Local\\Temp\\ipykernel_14980\\3056623666.py:11: DtypeWarning: Columns (2) have mixed types. Specify dtype option on import or set low_memory=False.\n",
      "  df = pd.read_csv(file_csv_name)\n"
     ]
    },
    {
     "name": "stdout",
     "output_type": "stream",
     "text": [
      "data/store\\소상공인시장진흥공단_상가(상권)정보_인천_202406.csv\n"
     ]
    },
    {
     "name": "stderr",
     "output_type": "stream",
     "text": [
      "C:\\Users\\ksh95\\AppData\\Local\\Temp\\ipykernel_14980\\3056623666.py:11: DtypeWarning: Columns (2) have mixed types. Specify dtype option on import or set low_memory=False.\n",
      "  df = pd.read_csv(file_csv_name)\n"
     ]
    },
    {
     "name": "stdout",
     "output_type": "stream",
     "text": [
      "data/store\\소상공인시장진흥공단_상가(상권)정보_전남_202406.csv\n"
     ]
    },
    {
     "name": "stderr",
     "output_type": "stream",
     "text": [
      "C:\\Users\\ksh95\\AppData\\Local\\Temp\\ipykernel_14980\\3056623666.py:11: DtypeWarning: Columns (2) have mixed types. Specify dtype option on import or set low_memory=False.\n",
      "  df = pd.read_csv(file_csv_name)\n"
     ]
    },
    {
     "name": "stdout",
     "output_type": "stream",
     "text": [
      "data/store\\소상공인시장진흥공단_상가(상권)정보_전북_202406.csv\n"
     ]
    },
    {
     "name": "stderr",
     "output_type": "stream",
     "text": [
      "C:\\Users\\ksh95\\AppData\\Local\\Temp\\ipykernel_14980\\3056623666.py:11: DtypeWarning: Columns (2) have mixed types. Specify dtype option on import or set low_memory=False.\n",
      "  df = pd.read_csv(file_csv_name)\n"
     ]
    },
    {
     "name": "stdout",
     "output_type": "stream",
     "text": [
      "data/store\\소상공인시장진흥공단_상가(상권)정보_제주_202406.csv\n"
     ]
    },
    {
     "name": "stderr",
     "output_type": "stream",
     "text": [
      "C:\\Users\\ksh95\\AppData\\Local\\Temp\\ipykernel_14980\\3056623666.py:11: DtypeWarning: Columns (2) have mixed types. Specify dtype option on import or set low_memory=False.\n",
      "  df = pd.read_csv(file_csv_name)\n"
     ]
    },
    {
     "name": "stdout",
     "output_type": "stream",
     "text": [
      "data/store\\소상공인시장진흥공단_상가(상권)정보_충남_202406.csv\n"
     ]
    },
    {
     "name": "stderr",
     "output_type": "stream",
     "text": [
      "C:\\Users\\ksh95\\AppData\\Local\\Temp\\ipykernel_14980\\3056623666.py:11: DtypeWarning: Columns (2) have mixed types. Specify dtype option on import or set low_memory=False.\n",
      "  df = pd.read_csv(file_csv_name)\n"
     ]
    },
    {
     "name": "stdout",
     "output_type": "stream",
     "text": [
      "data/store\\소상공인시장진흥공단_상가(상권)정보_충북_202406.csv\n",
      "                 상가업소번호      상호명  지점명 상권업종대분류코드 상권업종대분류명 상권업종중분류코드 상권업종중분류명  \\\n",
      "0  MA0101202210A0084547  금강산노래광장  NaN        I2       음식      I211       주점   \n",
      "1  MA010120220805430903       엔젤  NaN        I2       음식      I201       한식   \n",
      "2  MA010120220805430941     누베헤어  NaN        S2    수리·개인      S207    이용·미용   \n",
      "3  MA010120220805430946       공차  NaN        I2       음식      I212    비알코올    \n",
      "4  MA010120220805431369     행운쉼터  NaN        I1       숙박      I101    일반 숙박   \n",
      "\n",
      "  상권업종소분류코드  상권업종소분류명 표준산업분류코드  ...                     건물관리번호     건물명  \\\n",
      "0    I21101  일반 유흥 주점   I56211  ...  4217010300007470000000086     파크장   \n",
      "1    I20101    백반/한정식   I55109  ...  4277032022103660000008290     NaN   \n",
      "2    S20701       미용실   S96112  ...  4211012500100440010000008  춘천파크자이   \n",
      "3    I21201        카페   I56229  ...  4213033023113500001000001     NaN   \n",
      "4    I10103        펜션   I55104  ...  4281032022008200005013654     NaN   \n",
      "\n",
      "                        도로명주소   구우편번호  신우편번호  동정보  층정보  호정보          경도  \\\n",
      "0          강원특별자치도 동해시 송정로 11  240806  25789  NaN    지  NaN  129.127525   \n",
      "1  강원특별자치도 정선군 남면 민둥산로 175-13  233837  26148  NaN  NaN  NaN  128.792089   \n",
      "2      강원특별자치도 춘천시 스포츠타운길 460  200200  24472  NaN    3  NaN  127.707653   \n",
      "3    강원특별자치도 원주시 지정면 신지정로 211  220821  26354  NaN  NaN  NaN  127.872713   \n",
      "4      강원특별자치도 인제군 북면 금강로 751  252826  24609  NaN  NaN  NaN  128.207086   \n",
      "\n",
      "          위도  \n",
      "0  37.495265  \n",
      "1  37.259788  \n",
      "2  37.867744  \n",
      "3  37.374189  \n",
      "4  38.171871  \n",
      "\n",
      "[5 rows x 39 columns]\n"
     ]
    }
   ],
   "source": [
    "import pandas as pd\n",
    "from glob import glob\n",
    "\n",
    "# 파일 경로 패턴을 사용하여 모든 CSV 파일을 찾습니다.\n",
    "file_csv = glob(\"data/store/*_*.csv\")\n",
    "\n",
    "# 각 파일을 읽어들이고 DataFrame으로 저장합니다.\n",
    "dataframes = []\n",
    "for file_csv_name in file_csv:\n",
    "    # 파일을 읽어들입니다.\n",
    "    df = pd.read_csv(file_csv_name)\n",
    "    # DataFrame을 리스트에 추가합니다.\n",
    "    dataframes.append(df)\n",
    "    # 파일 이름을 출력합니다.\n",
    "    print(file_csv_name)\n",
    "\n",
    "# 모든 DataFrame을 하나로 합칩니다 (옵션: 파일들이 같은 구조를 갖고 있어야 합니다).\n",
    "combined_df = pd.concat(dataframes, ignore_index=True)\n",
    "\n",
    "# 결과를 확인합니다.\n",
    "print(combined_df.head())"
   ]
  },
  {
   "cell_type": "code",
   "execution_count": 57,
   "id": "c8c04697-af26-4c75-86c2-ccb4ee80681d",
   "metadata": {},
   "outputs": [
    {
     "ename": "AttributeError",
     "evalue": "'list' object has no attribute 'appen'",
     "output_type": "error",
     "traceback": [
      "\u001b[1;31m---------------------------------------------------------------------------\u001b[0m",
      "\u001b[1;31mAttributeError\u001b[0m                            Traceback (most recent call last)",
      "Cell \u001b[1;32mIn[57], line 4\u001b[0m\n\u001b[0;32m      2\u001b[0m \u001b[38;5;28;01mfor\u001b[39;00m file_csv_name \u001b[38;5;129;01min\u001b[39;00m file_csv:\n\u001b[0;32m      3\u001b[0m     temp \u001b[38;5;241m=\u001b[39m pd\u001b[38;5;241m.\u001b[39mread_csv(file_csv_name, low_memory\u001b[38;5;241m=\u001b[39m\u001b[38;5;28;01mFalse\u001b[39;00m)\n\u001b[1;32m----> 4\u001b[0m     \u001b[43mfile_list\u001b[49m\u001b[38;5;241;43m.\u001b[39;49m\u001b[43mappen\u001b[49m(temp)\n",
      "\u001b[1;31mAttributeError\u001b[0m: 'list' object has no attribute 'appen'"
     ]
    }
   ],
   "source": [
    "file_list = []\n",
    "for file_csv_name in file_csv:\n",
    "    temp = pd.read_csv(file_csv_name, low_memory=False)\n",
    "    file_list.appen(temp)"
   ]
  },
  {
   "cell_type": "code",
   "execution_count": null,
   "id": "f2654f50-5444-4b73-9db8-415814e8de66",
   "metadata": {},
   "outputs": [],
   "source": [
    "file_list[-1]"
   ]
  },
  {
   "cell_type": "code",
   "execution_count": null,
   "id": "fd4a92be-771b-4a62-980b-7eb1d2fab0c2",
   "metadata": {},
   "outputs": [],
   "source": [
    "df = pd.concat(file_list)"
   ]
  },
  {
   "cell_type": "code",
   "execution_count": 41,
   "id": "663203ee-642e-47a2-89df-4ab7d562c53c",
   "metadata": {},
   "outputs": [
    {
     "data": {
      "text/plain": [
       "0"
      ]
     },
     "execution_count": 41,
     "metadata": {},
     "output_type": "execute_result"
    }
   ],
   "source": [
    "len(file_list)"
   ]
  },
  {
   "cell_type": "code",
   "execution_count": null,
   "id": "a4ee5ff0-32d7-4ef4-8b1b-07302a0318a2",
   "metadata": {},
   "outputs": [],
   "source": [
    "df.info()"
   ]
  },
  {
   "cell_type": "code",
   "execution_count": null,
   "id": "d29a424f-87c4-420b-b126-8935be90929a",
   "metadata": {},
   "outputs": [],
   "source": []
  }
 ],
 "metadata": {
  "kernelspec": {
   "display_name": "Python 3 (ipykernel)",
   "language": "python",
   "name": "python3"
  },
  "language_info": {
   "codemirror_mode": {
    "name": "ipython",
    "version": 3
   },
   "file_extension": ".py",
   "mimetype": "text/x-python",
   "name": "python",
   "nbconvert_exporter": "python",
   "pygments_lexer": "ipython3",
   "version": "3.12.4"
  }
 },
 "nbformat": 4,
 "nbformat_minor": 5
}
