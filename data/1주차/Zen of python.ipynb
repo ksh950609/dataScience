{
 "cells": [
  {
   "cell_type": "code",
   "execution_count": null,
   "id": "f4411e6f-7709-43c2-97bc-1235cc9baaa6",
   "metadata": {},
   "outputs": [],
   "source": []
  },
  {
   "cell_type": "markdown",
   "id": "2bb92546-d418-4713-90c1-e3f1289df630",
   "metadata": {},
   "source": [
    "# 주피터노트북 사용법\n",
    "* shift + enter를 누르면 셀이 실행되고 커서가 다음셀로 이동합니다.(ctrl + enter)\n",
    "* 엔터를 누르면 다시 편집상태로 돌아옵니다.\n",
    "* esc를 누르고\n",
    "      * a 키를 누르면 위에 셀이 추가\n",
    "      * b 키를 누르면 아래에 셀이 추가 됩니다.\n",
    "      * dd키를 누르면 셀이 삭제됩니다.\n",
    "      * m카를 누르면 문서셀로 변경\n",
    "      * y키를 누르면 코드 셀로 변경됨.\n",
    "  \n",
    "* 주피터 노트북의 다양한 메뉴탭 활용\n",
    "* View -> Toggle Line Numbers : 라인 넘버를 확인\n",
    "* Kernel -> Restart & Clear Output : 커널과 결과를 초기화\n",
    "* edit가서 undo edit셀 누르면 복원가능\n",
    "\n",
    "H키 누르면 키워드 숏컷 나옴 ㅇㅇ \n",
    "## 마크다운(Markdown) 이란?\n",
    "* 코드와 함꼐 문서화를 할 수 있다.\n",
    "* 문서화를 할 수 있는 `문법`입니다.\n",
    "```\n",
    "여러 줄의 설명을\n",
    "줄바꿈으로 쓰고자 할 때\n",
    "```"
   ]
  },
  {
   "cell_type": "code",
   "execution_count": 1,
   "id": "a2ada38a-e5bd-4865-96c3-21807f6cb367",
   "metadata": {},
   "outputs": [
    {
     "name": "stdout",
     "output_type": "stream",
     "text": [
      "Hollo World\n"
     ]
    }
   ],
   "source": [
    "print(\"Hollo World\")"
   ]
  },
  {
   "cell_type": "code",
   "execution_count": 2,
   "id": "61fe5416-0826-44e3-9fb2-b543f97510f6",
   "metadata": {},
   "outputs": [
    {
     "data": {
      "text/plain": [
       "3"
      ]
     },
     "execution_count": 2,
     "metadata": {},
     "output_type": "execute_result"
    }
   ],
   "source": [
    "a =1\n",
    "b =2 \n",
    "a + b "
   ]
  }
 ],
 "metadata": {
  "kernelspec": {
   "display_name": "Python 3 (ipykernel)",
   "language": "python",
   "name": "python3"
  },
  "language_info": {
   "codemirror_mode": {
    "name": "ipython",
    "version": 3
   },
   "file_extension": ".py",
   "mimetype": "text/x-python",
   "name": "python",
   "nbconvert_exporter": "python",
   "pygments_lexer": "ipython3",
   "version": "3.12.4"
  }
 },
 "nbformat": 4,
 "nbformat_minor": 5
}
