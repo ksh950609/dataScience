{
 "cells": [
  {
   "cell_type": "code",
   "execution_count": 21,
   "id": "68b90831-b5d5-4ad3-8cfc-f53c8b7a13ed",
   "metadata": {},
   "outputs": [],
   "source": [
    "import pandas as pd\n",
    "import seaborn as sns\n",
    "import numpy as np\n",
    "import warnings\n",
    "warnings.filterwarnings(\"ignore\", category=UserWarning, module=\"openpyxl\")\n",
    "\n",
    "%matplotlib inline\n",
    "\n",
    "import os\n",
    "os.name\n",
    "\n",
    "if os.name == \"posix\":\n",
    "    sns.set(font=\"AppleGothic\")\n",
    "elif os.name == \"nt\":\n",
    "    sns.set(font=\"Malgun Gothic\")"
   ]
  },
  {
   "cell_type": "code",
   "execution_count": 2,
   "id": "f2ec5aab-9930-4acb-a457-604598ae32b5",
   "metadata": {},
   "outputs": [
    {
     "data": {
      "text/html": [
       "<div>\n",
       "<style scoped>\n",
       "    .dataframe tbody tr th:only-of-type {\n",
       "        vertical-align: middle;\n",
       "    }\n",
       "\n",
       "    .dataframe tbody tr th {\n",
       "        vertical-align: top;\n",
       "    }\n",
       "\n",
       "    .dataframe thead th {\n",
       "        text-align: right;\n",
       "    }\n",
       "</style>\n",
       "<table border=\"1\" class=\"dataframe\">\n",
       "  <thead>\n",
       "    <tr style=\"text-align: right;\">\n",
       "      <th></th>\n",
       "      <th>국가(대륙)별</th>\n",
       "      <th>상품군별</th>\n",
       "      <th>판매유형별</th>\n",
       "      <th>시점</th>\n",
       "      <th>데이터</th>\n",
       "    </tr>\n",
       "  </thead>\n",
       "  <tbody>\n",
       "    <tr>\n",
       "      <th>0</th>\n",
       "      <td>미국</td>\n",
       "      <td>컴퓨터 및 주변기기</td>\n",
       "      <td>면세점 이외</td>\n",
       "      <td>2017.1/4</td>\n",
       "      <td>1054</td>\n",
       "    </tr>\n",
       "    <tr>\n",
       "      <th>1</th>\n",
       "      <td>미국</td>\n",
       "      <td>컴퓨터 및 주변기기</td>\n",
       "      <td>면세점 이외</td>\n",
       "      <td>2017.2/4</td>\n",
       "      <td>946</td>\n",
       "    </tr>\n",
       "    <tr>\n",
       "      <th>2</th>\n",
       "      <td>미국</td>\n",
       "      <td>컴퓨터 및 주변기기</td>\n",
       "      <td>면세점 이외</td>\n",
       "      <td>2017.3/4</td>\n",
       "      <td>791</td>\n",
       "    </tr>\n",
       "    <tr>\n",
       "      <th>3</th>\n",
       "      <td>미국</td>\n",
       "      <td>컴퓨터 및 주변기기</td>\n",
       "      <td>면세점 이외</td>\n",
       "      <td>2017.4/4</td>\n",
       "      <td>854</td>\n",
       "    </tr>\n",
       "    <tr>\n",
       "      <th>4</th>\n",
       "      <td>미국</td>\n",
       "      <td>컴퓨터 및 주변기기</td>\n",
       "      <td>면세점 이외</td>\n",
       "      <td>2018.1/4</td>\n",
       "      <td>2033</td>\n",
       "    </tr>\n",
       "  </tbody>\n",
       "</table>\n",
       "</div>"
      ],
      "text/plain": [
       "  국가(대륙)별        상품군별   판매유형별        시점   데이터\n",
       "0      미국  컴퓨터 및 주변기기  면세점 이외  2017.1/4  1054\n",
       "1      미국  컴퓨터 및 주변기기  면세점 이외  2017.2/4   946\n",
       "2      미국  컴퓨터 및 주변기기  면세점 이외  2017.3/4   791\n",
       "3      미국  컴퓨터 및 주변기기  면세점 이외  2017.4/4   854\n",
       "4      미국  컴퓨터 및 주변기기  면세점 이외  2018.1/4  2033"
      ]
     },
     "execution_count": 2,
     "metadata": {},
     "output_type": "execute_result"
    }
   ],
   "source": [
    "df.head()"
   ]
  },
  {
   "cell_type": "code",
   "execution_count": 22,
   "id": "7b301277-c8a3-43a3-a8de-1dc4442ed8d6",
   "metadata": {},
   "outputs": [
    {
     "name": "stdout",
     "output_type": "stream",
     "text": [
      "<class 'pandas.core.frame.DataFrame'>\n",
      "RangeIndex: 2772 entries, 0 to 2771\n",
      "Data columns (total 8 columns):\n",
      " #   Column   Non-Null Count  Dtype \n",
      "---  ------   --------------  ----- \n",
      " 0   국가(대륙)별  2772 non-null   object\n",
      " 1   상품군별     2772 non-null   object\n",
      " 2   판매유형별    2772 non-null   object\n",
      " 3   시점       2772 non-null   object\n",
      " 4   데이터      2772 non-null   int64 \n",
      " 5   연도       2772 non-null   int64 \n",
      " 6   분기       2772 non-null   int64 \n",
      " 7   데이터(백만)  2772 non-null   int64 \n",
      "dtypes: int64(4), object(4)\n",
      "memory usage: 173.4+ KB\n"
     ]
    }
   ],
   "source": [
    "df.info()"
   ]
  },
  {
   "cell_type": "code",
   "execution_count": 23,
   "id": "ca3c9f11-355a-4bec-9567-e20595f24c52",
   "metadata": {},
   "outputs": [
    {
     "data": {
      "text/plain": [
       "(2772, 8)"
      ]
     },
     "execution_count": 23,
     "metadata": {},
     "output_type": "execute_result"
    }
   ],
   "source": [
    "df.shape"
   ]
  },
  {
   "cell_type": "code",
   "execution_count": 69,
   "id": "3ee6436a-6f24-4c1c-a6c7-0d7c3ddc0198",
   "metadata": {},
   "outputs": [
    {
     "data": {
      "text/html": [
       "<div>\n",
       "<style scoped>\n",
       "    .dataframe tbody tr th:only-of-type {\n",
       "        vertical-align: middle;\n",
       "    }\n",
       "\n",
       "    .dataframe tbody tr th {\n",
       "        vertical-align: top;\n",
       "    }\n",
       "\n",
       "    .dataframe thead th {\n",
       "        text-align: right;\n",
       "    }\n",
       "</style>\n",
       "<table border=\"1\" class=\"dataframe\">\n",
       "  <thead>\n",
       "    <tr style=\"text-align: right;\">\n",
       "      <th></th>\n",
       "      <th>국가(대륙)별</th>\n",
       "      <th>상품군별</th>\n",
       "      <th>판매유형별</th>\n",
       "      <th>시점</th>\n",
       "    </tr>\n",
       "  </thead>\n",
       "  <tbody>\n",
       "    <tr>\n",
       "      <th>count</th>\n",
       "      <td>2772</td>\n",
       "      <td>2772</td>\n",
       "      <td>2772</td>\n",
       "      <td>2772</td>\n",
       "    </tr>\n",
       "    <tr>\n",
       "      <th>unique</th>\n",
       "      <td>9</td>\n",
       "      <td>14</td>\n",
       "      <td>1</td>\n",
       "      <td>22</td>\n",
       "    </tr>\n",
       "    <tr>\n",
       "      <th>top</th>\n",
       "      <td>미국</td>\n",
       "      <td>컴퓨터 및 주변기기</td>\n",
       "      <td>면세점 이외</td>\n",
       "      <td>2017.1/4</td>\n",
       "    </tr>\n",
       "    <tr>\n",
       "      <th>freq</th>\n",
       "      <td>308</td>\n",
       "      <td>198</td>\n",
       "      <td>2772</td>\n",
       "      <td>126</td>\n",
       "    </tr>\n",
       "  </tbody>\n",
       "</table>\n",
       "</div>"
      ],
      "text/plain": [
       "       국가(대륙)별        상품군별   판매유형별        시점\n",
       "count     2772        2772    2772      2772\n",
       "unique       9          14       1        22\n",
       "top         미국  컴퓨터 및 주변기기  면세점 이외  2017.1/4\n",
       "freq       308         198    2772       126"
      ]
     },
     "execution_count": 69,
     "metadata": {},
     "output_type": "execute_result"
    }
   ],
   "source": [
    "df.describe(include=\"object\")"
   ]
  },
  {
   "cell_type": "code",
   "execution_count": 76,
   "id": "c08140ac-e4e6-4c64-a27f-2119d1e00d35",
   "metadata": {},
   "outputs": [
    {
     "data": {
      "text/plain": [
       "0    1054000000\n",
       "1     946000000\n",
       "2     791000000\n",
       "3     854000000\n",
       "4    2033000000\n",
       "Name: 데이터(백만), dtype: int64"
      ]
     },
     "execution_count": 76,
     "metadata": {},
     "output_type": "execute_result"
    }
   ],
   "source": [
    "df['데이터(백만)'].head()"
   ]
  },
  {
   "cell_type": "code",
   "execution_count": 67,
   "id": "c0623ffc-e5a7-4b2a-8b61-83e9b0dc2a3b",
   "metadata": {},
   "outputs": [],
   "source": [
    "# df['백만'] = df['데이터'] * 100000 아님"
   ]
  },
  {
   "cell_type": "code",
   "execution_count": 71,
   "id": "1d2653ed-fc03-4137-9ce1-8f5c90df1b8e",
   "metadata": {},
   "outputs": [],
   "source": [
    "df['연도'] = df['시점'].apply(lambda x: int(x.split('.')[0]))  # 연도 추출\n",
    "df['분기'] = df['시점'].apply(lambda x: int(x.split('/')[0].split('.')[1]))  # 분기 추출"
   ]
  },
  {
   "cell_type": "code",
   "execution_count": 74,
   "id": "7a00396f-f8d3-4297-a21c-7869cbe48747",
   "metadata": {},
   "outputs": [],
   "source": [
    "df['백만'] = df['데이터']"
   ]
  },
  {
   "cell_type": "code",
   "execution_count": 73,
   "id": "7bb31a6b-b9ad-49e5-990a-91adf70ee03e",
   "metadata": {},
   "outputs": [
    {
     "data": {
      "text/html": [
       "<div>\n",
       "<style scoped>\n",
       "    .dataframe tbody tr th:only-of-type {\n",
       "        vertical-align: middle;\n",
       "    }\n",
       "\n",
       "    .dataframe tbody tr th {\n",
       "        vertical-align: top;\n",
       "    }\n",
       "\n",
       "    .dataframe thead th {\n",
       "        text-align: right;\n",
       "    }\n",
       "</style>\n",
       "<table border=\"1\" class=\"dataframe\">\n",
       "  <thead>\n",
       "    <tr style=\"text-align: right;\">\n",
       "      <th></th>\n",
       "      <th>백만</th>\n",
       "      <th>연도</th>\n",
       "      <th>분기</th>\n",
       "    </tr>\n",
       "  </thead>\n",
       "  <tbody>\n",
       "    <tr>\n",
       "      <th>count</th>\n",
       "      <td>2772.00</td>\n",
       "      <td>2772.00</td>\n",
       "      <td>2772.00</td>\n",
       "    </tr>\n",
       "    <tr>\n",
       "      <th>mean</th>\n",
       "      <td>1613.12</td>\n",
       "      <td>2019.27</td>\n",
       "      <td>2.41</td>\n",
       "    </tr>\n",
       "    <tr>\n",
       "      <th>std</th>\n",
       "      <td>4273.43</td>\n",
       "      <td>1.60</td>\n",
       "      <td>1.11</td>\n",
       "    </tr>\n",
       "    <tr>\n",
       "      <th>min</th>\n",
       "      <td>-10003.00</td>\n",
       "      <td>2017.00</td>\n",
       "      <td>1.00</td>\n",
       "    </tr>\n",
       "    <tr>\n",
       "      <th>25%</th>\n",
       "      <td>41.75</td>\n",
       "      <td>2018.00</td>\n",
       "      <td>1.00</td>\n",
       "    </tr>\n",
       "    <tr>\n",
       "      <th>50%</th>\n",
       "      <td>291.50</td>\n",
       "      <td>2019.00</td>\n",
       "      <td>2.00</td>\n",
       "    </tr>\n",
       "    <tr>\n",
       "      <th>75%</th>\n",
       "      <td>1181.00</td>\n",
       "      <td>2021.00</td>\n",
       "      <td>3.00</td>\n",
       "    </tr>\n",
       "    <tr>\n",
       "      <th>max</th>\n",
       "      <td>47689.00</td>\n",
       "      <td>2022.00</td>\n",
       "      <td>4.00</td>\n",
       "    </tr>\n",
       "  </tbody>\n",
       "</table>\n",
       "</div>"
      ],
      "text/plain": [
       "             백만       연도       분기\n",
       "count   2772.00  2772.00  2772.00\n",
       "mean    1613.12  2019.27     2.41\n",
       "std     4273.43     1.60     1.11\n",
       "min   -10003.00  2017.00     1.00\n",
       "25%       41.75  2018.00     1.00\n",
       "50%      291.50  2019.00     2.00\n",
       "75%     1181.00  2021.00     3.00\n",
       "max    47689.00  2022.00     4.00"
      ]
     },
     "execution_count": 73,
     "metadata": {},
     "output_type": "execute_result"
    }
   ],
   "source": [
    "show = df[[\"백만\",\"연도\",\"분기\"]].describe()\n",
    "show.round(2)"
   ]
  }
 ],
 "metadata": {
  "kernelspec": {
   "display_name": "Python 3 (ipykernel)",
   "language": "python",
   "name": "python3"
  },
  "language_info": {
   "codemirror_mode": {
    "name": "ipython",
    "version": 3
   },
   "file_extension": ".py",
   "mimetype": "text/x-python",
   "name": "python",
   "nbconvert_exporter": "python",
   "pygments_lexer": "ipython3",
   "version": "3.12.4"
  }
 },
 "nbformat": 4,
 "nbformat_minor": 5
}
