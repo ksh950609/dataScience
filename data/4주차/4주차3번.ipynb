{
 "cells": [
  {
   "cell_type": "code",
   "execution_count": 84,
   "id": "bb6e9b63-4602-4060-8ddc-6cdbe4c3691f",
   "metadata": {},
   "outputs": [],
   "source": [
    "import pandas as pd\n",
    "import numpy as np\n",
    "import seaborn as sns\n",
    "import matplotlib.pyplot as plt\n",
    "\n",
    "# 한글폰트 사용을 위해 설치\n",
    "# 아래 모듈을 설치하고 불러오면 별도의 한글폰트 설정이 필요 없습니다.\n",
    "# !pip install koreanize-matplotlib\n",
    "\n",
    "import koreanize_matplotlib\n",
    "\n",
    "df = pd.read_csv(\n",
    "    \"https://raw.githubusercontent.com/corazzon/boostcourse-ds-510/master/data/online_oversea_sale_202210.csv.zip\", \n",
    "    encoding=\"cp949\")"
   ]
  },
  {
   "cell_type": "code",
   "execution_count": 86,
   "id": "d25c6b29-9d0f-4a45-a4c7-c5e27e54374d",
   "metadata": {},
   "outputs": [],
   "source": [
    "data = {\n",
    "    'Date': ['2020-01-15', '2020-02-20', '2020-03-25', '2020-01-10', '2020-04-15', '2020-05-22'],\n",
    "    'Region': ['North America', 'Europe', 'Asia', 'Europe', 'North America', 'Asia'],\n",
    "    'ProductCategory': ['Electronics', 'Clothing', 'Books', 'Electronics', 'Books', 'Clothing'],\n",
    "    'Sales': [1500, 3000, 2000, 2500, 1800, 2300]\n",
    "}\n",
    "\n",
    "df = pd.DataFrame(data)\n",
    "df['Date'] = pd.to_datetime(df['Date'])"
   ]
  },
  {
   "cell_type": "code",
   "execution_count": 87,
   "id": "e6c8e58f-cd75-4d4c-b53b-20e1d054c890",
   "metadata": {},
   "outputs": [],
   "source": [
    "df_2020 = df[df['Date'].dt.year == 2020]"
   ]
  },
  {
   "cell_type": "code",
   "execution_count": 88,
   "id": "981a4222-4acd-4ab1-82e9-4b3f49ed252e",
   "metadata": {},
   "outputs": [],
   "source": [
    "grouped = df_2020.groupby(['Region', 'ProductCategory']).agg({'Sales': 'sum'})"
   ]
  },
  {
   "cell_type": "code",
   "execution_count": 89,
   "id": "0e6e20f5-fc47-4d1c-bb54-317d99b70767",
   "metadata": {},
   "outputs": [],
   "source": [
    "pivot_table = grouped.unstack(level=1)"
   ]
  },
  {
   "cell_type": "code",
   "execution_count": 90,
   "id": "402f7384-dc78-4d89-9b00-2f755005f143",
   "metadata": {},
   "outputs": [
    {
     "name": "stdout",
     "output_type": "stream",
     "text": [
      "                  Sales                     \n",
      "ProductCategory   Books Clothing Electronics\n",
      "Region                                      \n",
      "Asia             2000.0   2300.0         NaN\n",
      "Europe              NaN   3000.0      2500.0\n",
      "North America    1800.0      NaN      1500.0\n"
     ]
    }
   ],
   "source": [
    "print(pivot_table)"
   ]
  },
  {
   "cell_type": "code",
   "execution_count": null,
   "id": "6948339f-cb88-4a91-b430-c9c1077473c2",
   "metadata": {},
   "outputs": [],
   "source": []
  },
  {
   "cell_type": "code",
   "execution_count": null,
   "id": "f56cb387-f7ac-426d-8ce6-0613f8a14396",
   "metadata": {},
   "outputs": [],
   "source": []
  }
 ],
 "metadata": {
  "kernelspec": {
   "display_name": "Python 3 (ipykernel)",
   "language": "python",
   "name": "python3"
  },
  "language_info": {
   "codemirror_mode": {
    "name": "ipython",
    "version": 3
   },
   "file_extension": ".py",
   "mimetype": "text/x-python",
   "name": "python",
   "nbconvert_exporter": "python",
   "pygments_lexer": "ipython3",
   "version": "3.12.4"
  }
 },
 "nbformat": 4,
 "nbformat_minor": 5
}
